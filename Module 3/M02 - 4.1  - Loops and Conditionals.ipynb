{
 "cells": [
  {
   "cell_type": "code",
   "execution_count": 14,
   "id": "d9f4ea89-24a6-41ca-be1a-0429e1d146b2",
   "metadata": {},
   "outputs": [
    {
     "name": "stdout",
     "output_type": "stream",
     "text": [
      "just right\n"
     ]
    }
   ],
   "source": [
    "secret = 3\n",
    "guess = 3\n",
    "\n",
    "if secret < guess:\n",
    "    print(\"too low\")\n",
    "elif secret == guess:\n",
    "    print(\"just right\")\n",
    "else:\n",
    "    print(\"too high\")\n"
   ]
  },
  {
   "cell_type": "code",
   "execution_count": null,
   "id": "61438bfe-e175-4ebb-b35d-af3af678ab26",
   "metadata": {},
   "outputs": [],
   "source": []
  }
 ],
 "metadata": {
  "kernelspec": {
   "display_name": "Python 3 (ipykernel)",
   "language": "python",
   "name": "python3"
  },
  "language_info": {
   "codemirror_mode": {
    "name": "ipython",
    "version": 3
   },
   "file_extension": ".py",
   "mimetype": "text/x-python",
   "name": "python",
   "nbconvert_exporter": "python",
   "pygments_lexer": "ipython3",
   "version": "3.12.4"
  }
 },
 "nbformat": 4,
 "nbformat_minor": 5
}
