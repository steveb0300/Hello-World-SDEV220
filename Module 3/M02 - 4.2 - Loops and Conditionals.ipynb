{
 "cells": [
  {
   "cell_type": "code",
   "execution_count": 1,
   "id": "9ad976f7-7e9f-4e5a-83a8-ceee2cd02c6d",
   "metadata": {},
   "outputs": [
    {
     "name": "stdout",
     "output_type": "stream",
     "text": [
      "Cherry\n"
     ]
    }
   ],
   "source": [
    "small = True\n",
    "green = False\n",
    "\n",
    "if small and green:\n",
    "    print(\"Pea\")\n",
    "elif small and not green:\n",
    "    print(\"Cherry\")\n",
    "elif not small and green:\n",
    "    print(\"Watermelon\")\n",
    "else:\n",
    "    print(\"Pumpkin\")"
   ]
  },
  {
   "cell_type": "code",
   "execution_count": null,
   "id": "21829610-0a42-4e58-8a57-18d41d86d49c",
   "metadata": {},
   "outputs": [],
   "source": []
  }
 ],
 "metadata": {
  "kernelspec": {
   "display_name": "Python 3 (ipykernel)",
   "language": "python",
   "name": "python3"
  },
  "language_info": {
   "codemirror_mode": {
    "name": "ipython",
    "version": 3
   },
   "file_extension": ".py",
   "mimetype": "text/x-python",
   "name": "python",
   "nbconvert_exporter": "python",
   "pygments_lexer": "ipython3",
   "version": "3.12.4"
  }
 },
 "nbformat": 4,
 "nbformat_minor": 5
}
