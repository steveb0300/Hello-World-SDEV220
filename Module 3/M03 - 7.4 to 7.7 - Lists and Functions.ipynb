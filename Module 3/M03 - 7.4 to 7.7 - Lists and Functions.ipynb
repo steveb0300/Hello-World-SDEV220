{
 "cells": [
  {
   "cell_type": "code",
   "execution_count": 3,
   "id": "c3af8760-30e6-4664-9deb-1adec6677c35",
   "metadata": {},
   "outputs": [
    {
     "name": "stdout",
     "output_type": "stream",
     "text": [
      "['mozzarella', 'cinderella', 'salmonella']\n",
      "['mozzarella', 'Cinderella', 'salmonella']\n",
      "['MOZZARELLA', 'Cinderella', 'salmonella']\n",
      "['MOZZARELLA', 'Cinderella']\n",
      "['Groucho', 'Chico', 'Harpo']\n"
     ]
    }
   ],
   "source": [
    "# Steve Baker\n",
    "# Module 3 Programming Assignment - Lists and Functions\n",
    "\n",
    "# 7.4\n",
    "things = [\"mozzarella\", \"cinderella\", \"salmonella\"]\n",
    "print(things)\n",
    "\n",
    "# 7.5\n",
    "things[1] = things[1].capitalize()\n",
    "print(things)\n",
    "\n",
    "# 7.6\n",
    "things[0] = things[0].upper()\n",
    "print(things)\n",
    "\n",
    "# 7.7\n",
    "del things[2]\n",
    "print(things)\n",
    "\n",
    "# 7.8\n",
    "surprise = [\"Groucho\", \"Chico\", \"Harpo\"]\n",
    "print(surprise)"
   ]
  },
  {
   "cell_type": "code",
   "execution_count": null,
   "id": "4874a38a-9437-42e7-b882-cb5f57224f7d",
   "metadata": {},
   "outputs": [],
   "source": []
  }
 ],
 "metadata": {
  "kernelspec": {
   "display_name": "Python 3 (ipykernel)",
   "language": "python",
   "name": "python3"
  },
  "language_info": {
   "codemirror_mode": {
    "name": "ipython",
    "version": 3
   },
   "file_extension": ".py",
   "mimetype": "text/x-python",
   "name": "python",
   "nbconvert_exporter": "python",
   "pygments_lexer": "ipython3",
   "version": "3.12.4"
  }
 },
 "nbformat": 4,
 "nbformat_minor": 5
}
