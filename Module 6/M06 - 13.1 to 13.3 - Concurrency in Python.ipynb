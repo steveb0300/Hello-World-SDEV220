{
 "cells": [
  {
   "cell_type": "code",
   "execution_count": 5,
   "id": "9423a0f2-e944-44e0-bbdf-3441160c9fd9",
   "metadata": {},
   "outputs": [],
   "source": [
    "# Module 6 Programming Assignment -Concurrency in Python\n",
    "# Steve Baker\n",
    "# 13.1\n",
    "\n",
    "\n",
    "from datetime import date\n",
    "\n",
    "# Get the current date\n",
    "current_date = date.today()\n",
    "\n",
    "# Convert the date to a string\n",
    "date_string = current_date.isoformat()\n",
    "\n",
    "# Write the date string to a text file\n",
    "with open('today.txt', 'w') as file:\n",
    "    file.write(date_string)"
   ]
  },
  {
   "cell_type": "code",
   "execution_count": 3,
   "id": "9f6832a9-c944-421f-a4f7-3cfec36b3c6d",
   "metadata": {},
   "outputs": [
    {
     "name": "stdout",
     "output_type": "stream",
     "text": [
      "2024-09-29\n"
     ]
    }
   ],
   "source": [
    "# Module 6 Programming Assignment -Concurrency in Python\n",
    "# Steve Baker\n",
    "# 13.2\n",
    "\n",
    "# Read the date string from the text file\n",
    "with open('today.txt', 'r') as file:\n",
    "    today_string = file.read()\n",
    "\n",
    "print(today_string)"
   ]
  },
  {
   "cell_type": "code",
   "execution_count": 7,
   "id": "3d172270-e684-4120-afe3-9edde1e33048",
   "metadata": {},
   "outputs": [
    {
     "name": "stdout",
     "output_type": "stream",
     "text": [
      "2024-09-29\n"
     ]
    }
   ],
   "source": [
    "# Module 6 Programming Assignment -Concurrency in Python\n",
    "# Steve Baker\n",
    "# 13.3\n",
    "\n",
    "from datetime import datetime\n",
    "\n",
    "# Parse the date string back into a date object\n",
    "parsed_date = datetime.strptime(today_string, '%Y-%m-%d').date()\n",
    "\n",
    "print(parsed_date)"
   ]
  },
  {
   "cell_type": "code",
   "execution_count": null,
   "id": "c9607f26-08d8-414d-b596-211c14963dcb",
   "metadata": {},
   "outputs": [],
   "source": []
  }
 ],
 "metadata": {
  "kernelspec": {
   "display_name": "Python 3 (ipykernel)",
   "language": "python",
   "name": "python3"
  },
  "language_info": {
   "codemirror_mode": {
    "name": "ipython",
    "version": 3
   },
   "file_extension": ".py",
   "mimetype": "text/x-python",
   "name": "python",
   "nbconvert_exporter": "python",
   "pygments_lexer": "ipython3",
   "version": "3.12.4"
  }
 },
 "nbformat": 4,
 "nbformat_minor": 5
}
