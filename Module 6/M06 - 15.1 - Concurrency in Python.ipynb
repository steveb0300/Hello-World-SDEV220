{
 "cells": [
  {
   "cell_type": "code",
   "execution_count": 23,
   "id": "98334a75-630d-4d18-b226-13d6db365ac5",
   "metadata": {},
   "outputs": [],
   "source": [
    "# Module 6 Programming Assignment -Concurrency in Python\n",
    "# Steve Baker\n",
    "# 15.1\n",
    "\n",
    "import multiprocessing\n",
    "import time\n",
    "import random\n",
    "from datetime import datetime\n",
    "\n",
    "def worker():\n",
    "    # Wait for a random number of seconds between 0 and 1\n",
    "    wait_time = random.uniform(0, 1)\n",
    "    time.sleep(wait_time)\n",
    "    \n",
    "    # Print the current time\n",
    "    print(f\"Process {multiprocessing.current_process().name} - Time: {datetime.now()}\")\n",
    "\n",
    "# Function to start processes\n",
    "def start_processes():\n",
    "    # Create three separate processes\n",
    "    processes = []\n",
    "    for i in range(3):\n",
    "        process = multiprocessing.Process(target=worker, name=f\"Process-{i+1}\")\n",
    "        processes.append(process)\n",
    "        process.start()\n",
    "    \n",
    "    # Wait for all processes to complete\n",
    "    for process in processes:\n",
    "        process.join()\n",
    "\n",
    "# Run the function to start processes\n",
    "start_processes()"
   ]
  }
 ],
 "metadata": {
  "kernelspec": {
   "display_name": "Python 3 (ipykernel)",
   "language": "python",
   "name": "python3"
  },
  "language_info": {
   "codemirror_mode": {
    "name": "ipython",
    "version": 3
   },
   "file_extension": ".py",
   "mimetype": "text/x-python",
   "name": "python",
   "nbconvert_exporter": "python",
   "pygments_lexer": "ipython3",
   "version": "3.12.4"
  }
 },
 "nbformat": 4,
 "nbformat_minor": 5
}
